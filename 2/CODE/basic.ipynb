{
  "cells": [
    {
      "cell_type": "markdown",
      "id": "9f1a7043",
      "metadata": {
        "id": "9f1a7043"
      },
      "source": [
        "\n",
        "# Introduction to Python \n",
        "## Experimental Economics Data Workflow\n",
        "\n",
        "- A very short introduction to Python\n",
        "  - Based on [Learn X in Y minutes, where X=Python](https://learnxinyminutes.com/docs/python/) <small>Attribution-ShareAlike 3.0 Unported (CC BY-SA 3.0)</small>\n",
        "  - Lutz, M. (2013). Learning python: Powerful object-oriented programming. \" O'Reilly Media, Inc.\".\n",
        "\n",
        "# Numbers and logical operators\n"
      ]
    },
    {
      "cell_type": "code",
      "execution_count": 12,
      "id": "e9fabdc9",
      "metadata": {
        "colab": {
          "base_uri": "https://localhost:8080/"
        },
        "id": "e9fabdc9",
        "outputId": "826cf8db-6396-4c55-8a47-6db98c3fed80"
      },
      "outputs": [
        {
          "output_type": "execute_result",
          "data": {
            "text/plain": [
              "6"
            ]
          },
          "metadata": {},
          "execution_count": 12
        }
      ],
      "source": [
        "3+3"
      ]
    },
    {
      "cell_type": "code",
      "execution_count": 13,
      "id": "c00b6010",
      "metadata": {
        "colab": {
          "base_uri": "https://localhost:8080/"
        },
        "id": "c00b6010",
        "outputId": "0e62dba8-e413-4a14-fb72-666072609413"
      },
      "outputs": [
        {
          "output_type": "execute_result",
          "data": {
            "text/plain": [
              "30"
            ]
          },
          "metadata": {},
          "execution_count": 13
        }
      ],
      "source": [
        "10 * 3"
      ]
    },
    {
      "cell_type": "code",
      "execution_count": 14,
      "id": "a040d5a3",
      "metadata": {
        "colab": {
          "base_uri": "https://localhost:8080/"
        },
        "id": "a040d5a3",
        "outputId": "285af469-686d-4485-bdd5-d7f47656f457"
      },
      "outputs": [
        {
          "output_type": "execute_result",
          "data": {
            "text/plain": [
              "7.0"
            ]
          },
          "metadata": {},
          "execution_count": 14
        }
      ],
      "source": [
        "35 / 5"
      ]
    },
    {
      "cell_type": "code",
      "execution_count": 15,
      "id": "98fbb328",
      "metadata": {
        "colab": {
          "base_uri": "https://localhost:8080/"
        },
        "id": "98fbb328",
        "outputId": "c7a2338f-db85-4019-b1c8-3c40c99b6664"
      },
      "outputs": [
        {
          "output_type": "execute_result",
          "data": {
            "text/plain": [
              "5"
            ]
          },
          "metadata": {},
          "execution_count": 15
        }
      ],
      "source": [
        "35 % 6"
      ]
    },
    {
      "cell_type": "code",
      "execution_count": 16,
      "id": "f21fd0ee",
      "metadata": {
        "colab": {
          "base_uri": "https://localhost:8080/"
        },
        "id": "f21fd0ee",
        "outputId": "9e30cdde-cd93-486e-9d7b-ff76dc383feb"
      },
      "outputs": [
        {
          "output_type": "execute_result",
          "data": {
            "text/plain": [
              "81"
            ]
          },
          "metadata": {},
          "execution_count": 16
        }
      ],
      "source": [
        "9 ** 2"
      ]
    },
    {
      "cell_type": "code",
      "execution_count": 17,
      "id": "917940ed",
      "metadata": {
        "colab": {
          "base_uri": "https://localhost:8080/"
        },
        "id": "917940ed",
        "outputId": "3368564a-0932-4916-e685-b375fb5400cf"
      },
      "outputs": [
        {
          "output_type": "execute_result",
          "data": {
            "text/plain": [
              "8"
            ]
          },
          "metadata": {},
          "execution_count": 17
        }
      ],
      "source": [
        "(1 + 3) * 2"
      ]
    },
    {
      "cell_type": "code",
      "execution_count": 18,
      "id": "0f411f5d",
      "metadata": {
        "colab": {
          "base_uri": "https://localhost:8080/"
        },
        "id": "0f411f5d",
        "outputId": "99800349-9dc4-4087-a7cf-e9b1c3f6dd3b"
      },
      "outputs": [
        {
          "output_type": "execute_result",
          "data": {
            "text/plain": [
              "7"
            ]
          },
          "metadata": {},
          "execution_count": 18
        }
      ],
      "source": [
        "1 + 3 * 2"
      ]
    },
    {
      "cell_type": "markdown",
      "id": "a36b53d4",
      "metadata": {
        "id": "a36b53d4"
      },
      "source": [
        "## Boolean Operators"
      ]
    },
    {
      "cell_type": "code",
      "execution_count": 19,
      "id": "7a5d158c",
      "metadata": {
        "colab": {
          "base_uri": "https://localhost:8080/"
        },
        "id": "7a5d158c",
        "outputId": "8dc9c6c1-a77d-4968-9ee2-730b7e29e0de"
      },
      "outputs": [
        {
          "output_type": "execute_result",
          "data": {
            "text/plain": [
              "False"
            ]
          },
          "metadata": {},
          "execution_count": 19
        }
      ],
      "source": [
        "True and False "
      ]
    },
    {
      "cell_type": "code",
      "execution_count": 20,
      "id": "a14a6413",
      "metadata": {
        "colab": {
          "base_uri": "https://localhost:8080/"
        },
        "id": "a14a6413",
        "outputId": "ffd30dbd-20f0-4aaf-84cf-5e494c89fd1f"
      },
      "outputs": [
        {
          "output_type": "execute_result",
          "data": {
            "text/plain": [
              "True"
            ]
          },
          "metadata": {},
          "execution_count": 20
        }
      ],
      "source": [
        "False or True   "
      ]
    },
    {
      "cell_type": "markdown",
      "id": "d9506187",
      "metadata": {
        "id": "d9506187"
      },
      "source": [
        "- True and False are actually 1 and 0 but with different keywords"
      ]
    },
    {
      "cell_type": "code",
      "execution_count": 21,
      "id": "4ff668c8",
      "metadata": {
        "colab": {
          "base_uri": "https://localhost:8080/"
        },
        "id": "4ff668c8",
        "outputId": "0870fb02-6193-46df-9136-91f7ec746e5d"
      },
      "outputs": [
        {
          "output_type": "execute_result",
          "data": {
            "text/plain": [
              "2"
            ]
          },
          "metadata": {},
          "execution_count": 21
        }
      ],
      "source": [
        "True + True "
      ]
    },
    {
      "cell_type": "code",
      "execution_count": 22,
      "id": "40a5d31b",
      "metadata": {
        "colab": {
          "base_uri": "https://localhost:8080/"
        },
        "id": "40a5d31b",
        "outputId": "8058038e-88cd-47df-c113-f86b73cde7dd"
      },
      "outputs": [
        {
          "output_type": "execute_result",
          "data": {
            "text/plain": [
              "8"
            ]
          },
          "metadata": {},
          "execution_count": 22
        }
      ],
      "source": [
        "True * 8    "
      ]
    },
    {
      "cell_type": "markdown",
      "id": "1c33ca32",
      "metadata": {
        "id": "1c33ca32"
      },
      "source": [
        "# Comparisons"
      ]
    },
    {
      "cell_type": "markdown",
      "id": "7e9af8ac",
      "metadata": {
        "id": "7e9af8ac"
      },
      "source": [
        "- Equality is =="
      ]
    },
    {
      "cell_type": "code",
      "execution_count": 23,
      "id": "fb5905ea",
      "metadata": {
        "colab": {
          "base_uri": "https://localhost:8080/"
        },
        "id": "fb5905ea",
        "outputId": "a1851668-224e-4e01-f8dd-6fd7850dc854"
      },
      "outputs": [
        {
          "output_type": "execute_result",
          "data": {
            "text/plain": [
              "True"
            ]
          },
          "metadata": {},
          "execution_count": 23
        }
      ],
      "source": [
        "1 == 1"
      ]
    },
    {
      "cell_type": "code",
      "execution_count": 24,
      "id": "88f58398",
      "metadata": {
        "colab": {
          "base_uri": "https://localhost:8080/"
        },
        "id": "88f58398",
        "outputId": "5b0489ea-0506-48ed-ae72-2cc2ac0be108"
      },
      "outputs": [
        {
          "output_type": "execute_result",
          "data": {
            "text/plain": [
              "False"
            ]
          },
          "metadata": {},
          "execution_count": 24
        }
      ],
      "source": [
        "2 == 1"
      ]
    },
    {
      "cell_type": "markdown",
      "id": "d71fe6bd",
      "metadata": {
        "id": "d71fe6bd"
      },
      "source": [
        "- Inequality is !="
      ]
    },
    {
      "cell_type": "code",
      "execution_count": 25,
      "id": "b55968eb",
      "metadata": {
        "colab": {
          "base_uri": "https://localhost:8080/"
        },
        "id": "b55968eb",
        "outputId": "9cd3b5d8-9f43-4a35-a27a-4e1ffd08204b"
      },
      "outputs": [
        {
          "output_type": "execute_result",
          "data": {
            "text/plain": [
              "False"
            ]
          },
          "metadata": {},
          "execution_count": 25
        }
      ],
      "source": [
        "1 != 1  "
      ]
    },
    {
      "cell_type": "code",
      "execution_count": 26,
      "id": "e04ba6b7",
      "metadata": {
        "colab": {
          "base_uri": "https://localhost:8080/"
        },
        "id": "e04ba6b7",
        "outputId": "bd04709f-32ec-4cfa-bb4e-81f2f52177c5"
      },
      "outputs": [
        {
          "output_type": "execute_result",
          "data": {
            "text/plain": [
              "True"
            ]
          },
          "metadata": {},
          "execution_count": 26
        }
      ],
      "source": [
        "2 != 1 "
      ]
    },
    {
      "cell_type": "markdown",
      "id": "fa1a083f",
      "metadata": {
        "id": "fa1a083f"
      },
      "source": [
        "## More comparisons"
      ]
    },
    {
      "cell_type": "code",
      "execution_count": 27,
      "id": "1edc6350",
      "metadata": {
        "colab": {
          "base_uri": "https://localhost:8080/"
        },
        "id": "1edc6350",
        "outputId": "932d38c0-5806-4e28-85ce-d2080828f6dd"
      },
      "outputs": [
        {
          "output_type": "execute_result",
          "data": {
            "text/plain": [
              "False"
            ]
          },
          "metadata": {},
          "execution_count": 27
        }
      ],
      "source": [
        "1 > 10 "
      ]
    },
    {
      "cell_type": "code",
      "execution_count": 28,
      "id": "60a4e787",
      "metadata": {
        "colab": {
          "base_uri": "https://localhost:8080/"
        },
        "id": "60a4e787",
        "outputId": "b81bbee9-6403-4d82-ea03-4fd15def820d"
      },
      "outputs": [
        {
          "output_type": "execute_result",
          "data": {
            "text/plain": [
              "True"
            ]
          },
          "metadata": {},
          "execution_count": 28
        }
      ],
      "source": [
        "1 > 10 or 1 < 10 "
      ]
    },
    {
      "cell_type": "code",
      "execution_count": 29,
      "id": "76532889",
      "metadata": {
        "colab": {
          "base_uri": "https://localhost:8080/"
        },
        "id": "76532889",
        "outputId": "dcdc0f2c-8778-45fc-9d9e-5ec841f397f0"
      },
      "outputs": [
        {
          "output_type": "execute_result",
          "data": {
            "text/plain": [
              "True"
            ]
          },
          "metadata": {},
          "execution_count": 29
        }
      ],
      "source": [
        "2 <= 2"
      ]
    },
    {
      "cell_type": "markdown",
      "id": "4453a237",
      "metadata": {
        "id": "4453a237"
      },
      "source": [
        "# Strings and variables\n",
        "\n",
        "Strings are an ordered collection of *characters*"
      ]
    },
    {
      "cell_type": "code",
      "execution_count": 30,
      "id": "f6ab6b7e",
      "metadata": {
        "colab": {
          "base_uri": "https://localhost:8080/",
          "height": 0
        },
        "id": "f6ab6b7e",
        "outputId": "8d92f465-6171-46f5-8a98-d7622ff0e4e6"
      },
      "outputs": [
        {
          "output_type": "execute_result",
          "data": {
            "text/plain": [
              "'This is a string.'"
            ],
            "application/vnd.google.colaboratory.intrinsic+json": {
              "type": "string"
            }
          },
          "metadata": {},
          "execution_count": 30
        }
      ],
      "source": [
        "'This is a string.'"
      ]
    },
    {
      "cell_type": "code",
      "execution_count": 31,
      "id": "cc11ccbd",
      "metadata": {
        "colab": {
          "base_uri": "https://localhost:8080/",
          "height": 0
        },
        "id": "cc11ccbd",
        "outputId": "7778daf1-2088-4d43-80f4-03e3ef0035cc"
      },
      "outputs": [
        {
          "output_type": "execute_result",
          "data": {
            "text/plain": [
              "'Hello world!'"
            ],
            "application/vnd.google.colaboratory.intrinsic+json": {
              "type": "string"
            }
          },
          "metadata": {},
          "execution_count": 31
        }
      ],
      "source": [
        "\"Hello \" + \"world!\""
      ]
    },
    {
      "cell_type": "markdown",
      "id": "7c1e5a68",
      "metadata": {
        "id": "7c1e5a68"
      },
      "source": [
        "- Variables can be declared"
      ]
    },
    {
      "cell_type": "code",
      "execution_count": 32,
      "id": "6816ecb0",
      "metadata": {
        "id": "6816ecb0"
      },
      "outputs": [],
      "source": [
        "name = \"oTree\""
      ]
    },
    {
      "cell_type": "markdown",
      "id": "17791147",
      "metadata": {
        "id": "17791147"
      },
      "source": [
        "- Variables (strings) can be sliced and indexed"
      ]
    },
    {
      "cell_type": "code",
      "execution_count": 33,
      "id": "2f69762f",
      "metadata": {
        "colab": {
          "base_uri": "https://localhost:8080/",
          "height": 0
        },
        "id": "2f69762f",
        "outputId": "d69b1b4c-7fea-431f-d98e-ad505f484ce5"
      },
      "outputs": [
        {
          "output_type": "execute_result",
          "data": {
            "text/plain": [
              "'o'"
            ],
            "application/vnd.google.colaboratory.intrinsic+json": {
              "type": "string"
            }
          },
          "metadata": {},
          "execution_count": 33
        }
      ],
      "source": [
        "name[0] "
      ]
    },
    {
      "cell_type": "code",
      "execution_count": 34,
      "id": "a1a1cf5c",
      "metadata": {
        "colab": {
          "base_uri": "https://localhost:8080/",
          "height": 0
        },
        "id": "a1a1cf5c",
        "outputId": "07bbef51-e71a-49de-d025-f600ae294633"
      },
      "outputs": [
        {
          "output_type": "execute_result",
          "data": {
            "text/plain": [
              "'r'"
            ],
            "application/vnd.google.colaboratory.intrinsic+json": {
              "type": "string"
            }
          },
          "metadata": {},
          "execution_count": 34
        }
      ],
      "source": [
        "name[-3]  "
      ]
    },
    {
      "cell_type": "markdown",
      "id": "c539c3ee",
      "metadata": {
        "id": "c539c3ee"
      },
      "source": [
        "# Lists and tuples"
      ]
    },
    {
      "cell_type": "code",
      "execution_count": 35,
      "id": "d355d598",
      "metadata": {
        "id": "d355d598"
      },
      "outputs": [],
      "source": [
        "li = []"
      ]
    },
    {
      "cell_type": "code",
      "execution_count": 36,
      "id": "0e975982",
      "metadata": {
        "colab": {
          "base_uri": "https://localhost:8080/"
        },
        "id": "0e975982",
        "outputId": "eb8e15fc-d3cb-45b0-a7ff-0930aca5daf0"
      },
      "outputs": [
        {
          "output_type": "execute_result",
          "data": {
            "text/plain": [
              "[]"
            ]
          },
          "metadata": {},
          "execution_count": 36
        }
      ],
      "source": [
        "li"
      ]
    },
    {
      "cell_type": "markdown",
      "id": "48ad261f",
      "metadata": {
        "id": "48ad261f"
      },
      "source": [
        "- Add stuff to the end of a list with append"
      ]
    },
    {
      "cell_type": "code",
      "execution_count": 37,
      "id": "72bfbe2e",
      "metadata": {
        "id": "72bfbe2e"
      },
      "outputs": [],
      "source": [
        "li = [2,3,4]"
      ]
    },
    {
      "cell_type": "code",
      "execution_count": 38,
      "id": "2129ada5",
      "metadata": {
        "colab": {
          "base_uri": "https://localhost:8080/"
        },
        "id": "2129ada5",
        "outputId": "61cf774a-64f8-4cb5-834a-4f60b9f36420"
      },
      "outputs": [
        {
          "output_type": "execute_result",
          "data": {
            "text/plain": [
              "[2, 3, 4]"
            ]
          },
          "metadata": {},
          "execution_count": 38
        }
      ],
      "source": [
        "li"
      ]
    },
    {
      "cell_type": "markdown",
      "id": "1565308f",
      "metadata": {
        "id": "1565308f"
      },
      "source": [
        "- Add stuff to the end of a list with append"
      ]
    },
    {
      "cell_type": "code",
      "execution_count": 39,
      "id": "24e80c15",
      "metadata": {
        "id": "24e80c15"
      },
      "outputs": [],
      "source": [
        "li.append(5)"
      ]
    },
    {
      "cell_type": "code",
      "execution_count": 40,
      "id": "e5a8198e",
      "metadata": {
        "colab": {
          "base_uri": "https://localhost:8080/"
        },
        "id": "e5a8198e",
        "outputId": "c0e137e2-dd1b-4185-e76a-3326a5b2f8cb"
      },
      "outputs": [
        {
          "output_type": "execute_result",
          "data": {
            "text/plain": [
              "[2, 3, 4, 5]"
            ]
          },
          "metadata": {},
          "execution_count": 40
        }
      ],
      "source": [
        "li"
      ]
    },
    {
      "cell_type": "markdown",
      "id": "31126deb",
      "metadata": {
        "id": "31126deb"
      },
      "source": [
        "- Access a list like you would any array"
      ]
    },
    {
      "cell_type": "code",
      "execution_count": 41,
      "id": "989a9455",
      "metadata": {
        "colab": {
          "base_uri": "https://localhost:8080/"
        },
        "id": "989a9455",
        "outputId": "c84348cb-f358-4819-8779-6d19e960d59b"
      },
      "outputs": [
        {
          "output_type": "execute_result",
          "data": {
            "text/plain": [
              "2"
            ]
          },
          "metadata": {},
          "execution_count": 41
        }
      ],
      "source": [
        "li[0] "
      ]
    },
    {
      "cell_type": "code",
      "execution_count": 42,
      "id": "2125adee",
      "metadata": {
        "colab": {
          "base_uri": "https://localhost:8080/"
        },
        "id": "2125adee",
        "outputId": "4eb58401-fcc8-4cea-c5aa-289955895ad6"
      },
      "outputs": [
        {
          "output_type": "execute_result",
          "data": {
            "text/plain": [
              "4"
            ]
          },
          "metadata": {},
          "execution_count": 42
        }
      ],
      "source": [
        "len(li)"
      ]
    },
    {
      "cell_type": "code",
      "execution_count": 43,
      "id": "5ad713cc",
      "metadata": {
        "colab": {
          "base_uri": "https://localhost:8080/"
        },
        "id": "5ad713cc",
        "outputId": "6c9eeaa2-fda0-45e6-e00a-fd46d76649e9"
      },
      "outputs": [
        {
          "output_type": "execute_result",
          "data": {
            "text/plain": [
              "[3, 4]"
            ]
          },
          "metadata": {},
          "execution_count": 43
        }
      ],
      "source": [
        "li [1:3]"
      ]
    },
    {
      "cell_type": "code",
      "execution_count": 44,
      "id": "b28b63e8",
      "metadata": {
        "id": "b28b63e8"
      },
      "outputs": [],
      "source": [
        "del li[2]"
      ]
    },
    {
      "cell_type": "code",
      "execution_count": 45,
      "id": "6571e092",
      "metadata": {
        "colab": {
          "base_uri": "https://localhost:8080/"
        },
        "id": "6571e092",
        "outputId": "255e1de3-3b60-4505-f925-a2d30fa35b6b"
      },
      "outputs": [
        {
          "output_type": "execute_result",
          "data": {
            "text/plain": [
              "[2, 3, 5]"
            ]
          },
          "metadata": {},
          "execution_count": 45
        }
      ],
      "source": [
        "li"
      ]
    },
    {
      "cell_type": "markdown",
      "id": "d471418d",
      "metadata": {
        "id": "d471418d"
      },
      "source": [
        "- Check for existence in a list with \"in\""
      ]
    },
    {
      "cell_type": "code",
      "execution_count": 46,
      "id": "abcbdc52",
      "metadata": {
        "colab": {
          "base_uri": "https://localhost:8080/"
        },
        "id": "abcbdc52",
        "outputId": "f4b76c9c-d3ff-49aa-de19-a93840e814ab"
      },
      "outputs": [
        {
          "output_type": "execute_result",
          "data": {
            "text/plain": [
              "False"
            ]
          },
          "metadata": {},
          "execution_count": 46
        }
      ],
      "source": [
        "1 in li\n"
      ]
    },
    {
      "cell_type": "markdown",
      "id": "839d3a38",
      "metadata": {
        "id": "839d3a38"
      },
      "source": [
        "# Dictionaries\n",
        "- Useful way to collect and organize information\n",
        "  - As an example, payoffs of players\n",
        "  - They are used in *settings.py* to control apps\n",
        "- Storage of mappimngs from *keys* to *values*\n"
      ]
    },
    {
      "cell_type": "code",
      "execution_count": 47,
      "id": "88a7bcea",
      "metadata": {
        "id": "88a7bcea"
      },
      "outputs": [],
      "source": [
        "empty_dict = {}"
      ]
    },
    {
      "cell_type": "code",
      "execution_count": 48,
      "id": "c063d28c",
      "metadata": {
        "id": "c063d28c"
      },
      "outputs": [],
      "source": [
        "filled_dict = {\"one\": 1, \"two\": 2, \"three\": 3}"
      ]
    },
    {
      "cell_type": "code",
      "execution_count": 49,
      "id": "13aa9cb0",
      "metadata": {
        "colab": {
          "base_uri": "https://localhost:8080/"
        },
        "id": "13aa9cb0",
        "outputId": "34334003-b40b-4b6e-96dd-9177e45c8766"
      },
      "outputs": [
        {
          "output_type": "execute_result",
          "data": {
            "text/plain": [
              "1"
            ]
          },
          "metadata": {},
          "execution_count": 49
        }
      ],
      "source": [
        "filled_dict[\"one\"]"
      ]
    },
    {
      "cell_type": "markdown",
      "id": "21dc8fe8",
      "metadata": {
        "id": "21dc8fe8"
      },
      "source": [
        "- Get all keys as an iterable with \"keys()\". We need to wrap the call in list()"
      ]
    },
    {
      "cell_type": "code",
      "execution_count": 50,
      "id": "2aefe844",
      "metadata": {
        "colab": {
          "base_uri": "https://localhost:8080/"
        },
        "id": "2aefe844",
        "outputId": "d2f6084b-3992-4736-e963-9ce3631b94dc"
      },
      "outputs": [
        {
          "output_type": "execute_result",
          "data": {
            "text/plain": [
              "['one', 'two', 'three']"
            ]
          },
          "metadata": {},
          "execution_count": 50
        }
      ],
      "source": [
        "list(filled_dict.keys())"
      ]
    },
    {
      "cell_type": "markdown",
      "id": "ad39e976",
      "metadata": {
        "id": "ad39e976"
      },
      "source": [
        "- Get all values as an iterable with \"values()\". Once again we need to wrap it"
      ]
    },
    {
      "cell_type": "code",
      "execution_count": 51,
      "id": "bdf3a6bc",
      "metadata": {
        "colab": {
          "base_uri": "https://localhost:8080/"
        },
        "id": "bdf3a6bc",
        "outputId": "5103f4bf-16dd-48f0-fb88-4ea3424d8ec2"
      },
      "outputs": [
        {
          "output_type": "execute_result",
          "data": {
            "text/plain": [
              "[1, 2, 3]"
            ]
          },
          "metadata": {},
          "execution_count": 51
        }
      ],
      "source": [
        "list(filled_dict.values())\n"
      ]
    },
    {
      "cell_type": "markdown",
      "id": "ffc44d69",
      "metadata": {
        "id": "ffc44d69"
      },
      "source": [
        "- Check for existence of keys in a dictionary with \"in\"\n"
      ]
    },
    {
      "cell_type": "code",
      "execution_count": 52,
      "id": "fb7335c5",
      "metadata": {
        "colab": {
          "base_uri": "https://localhost:8080/"
        },
        "id": "fb7335c5",
        "outputId": "9daf8a7e-dc78-4b04-f301-a7f1e75f9952"
      },
      "outputs": [
        {
          "output_type": "execute_result",
          "data": {
            "text/plain": [
              "True"
            ]
          },
          "metadata": {},
          "execution_count": 52
        }
      ],
      "source": [
        "\"one\" in filled_dict"
      ]
    },
    {
      "cell_type": "code",
      "execution_count": 53,
      "id": "c2a18ad9",
      "metadata": {
        "colab": {
          "base_uri": "https://localhost:8080/"
        },
        "id": "c2a18ad9",
        "outputId": "e712b7b0-1e3c-4017-fd88-3bf484dd90bd"
      },
      "outputs": [
        {
          "output_type": "execute_result",
          "data": {
            "text/plain": [
              "False"
            ]
          },
          "metadata": {},
          "execution_count": 53
        }
      ],
      "source": [
        "1 in filled_dict"
      ]
    },
    {
      "cell_type": "markdown",
      "id": "50155fcc",
      "metadata": {
        "id": "50155fcc"
      },
      "source": [
        "- Adding to an existing  dictionary"
      ]
    },
    {
      "cell_type": "code",
      "execution_count": 54,
      "id": "a6dd26c4",
      "metadata": {
        "id": "a6dd26c4"
      },
      "outputs": [],
      "source": [
        "filled_dict.update({\"four\": 4})\n"
      ]
    },
    {
      "cell_type": "markdown",
      "id": "80bc0992",
      "metadata": {
        "id": "80bc0992"
      },
      "source": [
        "## Control flow and iteration\n",
        "\n",
        "- Often you need to iterate through variables\n",
        "  - As an example, collect all choice sof participants in a group"
      ]
    },
    {
      "cell_type": "markdown",
      "id": "10dc31ec",
      "metadata": {
        "id": "10dc31ec"
      },
      "source": [
        "## Iterations"
      ]
    },
    {
      "cell_type": "code",
      "execution_count": 55,
      "id": "aeeccf00",
      "metadata": {
        "colab": {
          "base_uri": "https://localhost:8080/"
        },
        "id": "aeeccf00",
        "outputId": "8da8cbcf-28e5-4fc8-ba97-bbbee3d9a224"
      },
      "outputs": [
        {
          "output_type": "stream",
          "name": "stdout",
          "text": [
            "some_var is smaller than 10.\n"
          ]
        }
      ],
      "source": [
        "some_var = 5\n",
        "\n",
        "\n",
        "if some_var > 10:\n",
        "    print(\"some_var is totally bigger than 10.\")\n",
        "elif some_var < 10:    # This elif clause is optional.\n",
        "    print(\"some_var is smaller than 10.\")\n",
        "else:                  # This is optional too.\n",
        "    print(\"some_var is indeed 10.\")\n"
      ]
    },
    {
      "cell_type": "markdown",
      "id": "032b62be",
      "metadata": {
        "id": "032b62be"
      },
      "source": [
        "## Loops"
      ]
    },
    {
      "cell_type": "code",
      "execution_count": 56,
      "id": "fde9d35e",
      "metadata": {
        "colab": {
          "base_uri": "https://localhost:8080/"
        },
        "id": "fde9d35e",
        "outputId": "63ff9ac1-0c51-42e6-8890-44cbd2a1fbae"
      },
      "outputs": [
        {
          "output_type": "stream",
          "name": "stdout",
          "text": [
            "0\n",
            "1\n",
            "2\n",
            "3\n"
          ]
        }
      ],
      "source": [
        "\n",
        "for i in range(4):\n",
        "    print(i)\n"
      ]
    },
    {
      "cell_type": "code",
      "execution_count": 57,
      "id": "31d47803",
      "metadata": {
        "colab": {
          "base_uri": "https://localhost:8080/"
        },
        "id": "31d47803",
        "outputId": "78d76ab5-f8dd-4aac-a1a0-c02568130c79"
      },
      "outputs": [
        {
          "output_type": "stream",
          "name": "stdout",
          "text": [
            "dog is a mammal\n",
            "cat is a mammal\n",
            "mouse is a mammal\n"
          ]
        }
      ],
      "source": [
        "\n",
        "for animal in [\"dog\", \"cat\", \"mouse\"]:\n",
        "    # You can use format() to interpolate formatted strings\n",
        "    print(\"{} is a mammal\".format(animal))"
      ]
    },
    {
      "cell_type": "markdown",
      "id": "88d51e2d",
      "metadata": {
        "id": "88d51e2d"
      },
      "source": [
        "- We can use list comprehensions to loop or filter"
      ]
    },
    {
      "cell_type": "code",
      "execution_count": 58,
      "id": "e60a49b3",
      "metadata": {
        "colab": {
          "base_uri": "https://localhost:8080/"
        },
        "id": "e60a49b3",
        "outputId": "c9d86458-8ca4-4104-91f8-7893ceda152c"
      },
      "outputs": [
        {
          "output_type": "execute_result",
          "data": {
            "text/plain": [
              "[6, 7]"
            ]
          },
          "metadata": {},
          "execution_count": 58
        }
      ],
      "source": [
        "numbers = [3, 4, 5, 6, 7]\n",
        "[x for x in numbers if x > 5]   # => [6, 7]"
      ]
    },
    {
      "cell_type": "markdown",
      "id": "0aa7b7b8",
      "metadata": {
        "id": "0aa7b7b8"
      },
      "source": [
        "*Indenting is important!*"
      ]
    },
    {
      "cell_type": "markdown",
      "id": "86d1ed47",
      "metadata": {
        "id": "86d1ed47"
      },
      "source": [
        ""
      ]
    },
    {
      "cell_type": "markdown",
      "id": "670304cf",
      "metadata": {
        "id": "670304cf"
      },
      "source": [
        "# Functions"
      ]
    },
    {
      "cell_type": "markdown",
      "id": "909f8dfe",
      "metadata": {
        "id": "909f8dfe"
      },
      "source": [
        "- Use \"def\" to create new functions"
      ]
    },
    {
      "cell_type": "code",
      "execution_count": 59,
      "id": "cfd297db",
      "metadata": {
        "id": "cfd297db"
      },
      "outputs": [],
      "source": [
        "def add(x, y):\n",
        "    print(\"x is {} and y is {}\".format(x, y))\n",
        "    return x+y  # Return values with a return statement"
      ]
    },
    {
      "cell_type": "code",
      "execution_count": 60,
      "id": "c32d25db",
      "metadata": {
        "colab": {
          "base_uri": "https://localhost:8080/"
        },
        "id": "c32d25db",
        "outputId": "f730314a-82d5-476c-d150-eb763e5c6d7e"
      },
      "outputs": [
        {
          "output_type": "stream",
          "name": "stdout",
          "text": [
            "x is 5 and y is 6\n"
          ]
        },
        {
          "output_type": "execute_result",
          "data": {
            "text/plain": [
              "11"
            ]
          },
          "metadata": {},
          "execution_count": 60
        }
      ],
      "source": [
        "add(5, 6)"
      ]
    },
    {
      "cell_type": "markdown",
      "id": "a1a792b9",
      "metadata": {
        "id": "a1a792b9"
      },
      "source": [
        "# Classes"
      ]
    },
    {
      "cell_type": "markdown",
      "id": "de78eb77",
      "metadata": {
        "id": "de78eb77"
      },
      "source": [
        "\n",
        "- Classes are main **object-oriented-programming (OOP)** in Python\n",
        "  - **Class objects** provide default behavior\n",
        "    - The *class* statement creates a class object and assigns it a name\n",
        "    - Assignments inside class statements make class attributes\n",
        "    - Class attributes export object state and behavior\n",
        "      - *def* statements inside class generate a *method*\n",
        "  - **Instance objects** are generated from classes\n",
        "    - Calling a class object makes a new *instance object*\n",
        "    - Each instance object inherits class attributes and gets its own namespace\n",
        "    - Assignments to *self* in methods make per-instance attributes\n",
        "      - *self* refers to the instance being processed"
      ]
    },
    {
      "cell_type": "markdown",
      "id": "b2cae138",
      "metadata": {
        "id": "b2cae138"
      },
      "source": [
        "### Classes: An Example\n",
        "\n",
        "- Pokemon is a **class** with some properties\n",
        "  - Height\n",
        "  - Weight\n",
        "  - Category\n",
        "\n",
        "- Two **instances** of the class &rarr;\n",
        "\n",
        "\n",
        "<img src=\"https://assets.pokemon.com/assets/cms2/img/pokedex/full/004.png\" width=50> \n",
        "\n",
        "**Charmander**:\n",
        "\n",
        "  - Height: 2' 00\";\n",
        "  \n",
        "  - Weight 18.7 lbs;\n",
        "  \n",
        "  - Category: Lizard\n",
        "\n",
        "\n",
        "<img src=\"https://assets.pokemon.com/assets/cms2/img/pokedex/full/001.png\" width=50>\n",
        "\n",
        "**Bulbasaur**:\n",
        "\n",
        "  - Height: 2' 04\";\n",
        "  \n",
        "  - Weight: 15.2 lbs;\n",
        "  \n",
        "  - Category: Seed\n",
        "  "
      ]
    },
    {
      "cell_type": "markdown",
      "id": "7aca3a86",
      "metadata": {
        "id": "7aca3a86"
      },
      "source": [
        "<img src=\"https://assets.pokemon.com/assets/cms2/img/pokedex/full/004.png\" width=80> <img src=\"https://assets.pokemon.com/assets/cms2/img/pokedex/full/001.png\" width=80> "
      ]
    },
    {
      "cell_type": "code",
      "execution_count": 61,
      "id": "0c968d53",
      "metadata": {
        "id": "0c968d53"
      },
      "outputs": [],
      "source": [
        "class Pokemon:\n",
        "    nature = \"Pokemon\"  # this property is shared by all instances\n",
        "\n",
        "    def __init__(self, name, height, weight, category):\n",
        "        # Assign the argument to the instance's name attribute\n",
        "        self.name = name\n",
        "        self.height = height\n",
        "        self.weight = weight\n",
        "        self.category = category\n",
        "        self.comment = []\n",
        "    # to add a comment\n",
        "\n",
        "    def add_comment(self, comment):\n",
        "        self.comment.append(comment)\n",
        "    # convert height and weight into metric\n",
        "\n",
        "    def convert_metric(self):\n",
        "        # conversion rates\n",
        "        feet_conv_cm = 30.5\n",
        "        inch_conv_cm = 2.54\n",
        "        lbs_conv_kg = 0.453592\n",
        "        self.height_cm = int(self.height.split(\n",
        "            \"'\")[0])*feet_conv_cm+int(self.height.split(\"'\")[1])*inch_conv_cm\n",
        "        self.weight_kg = self.weight*lbs_conv_kg\n",
        "        # print the result\n",
        "        print(\"Height (cm): %f, Weight (Kg): %f\" %\n",
        "              (self.height_cm, self.weight_kg))\n"
      ]
    },
    {
      "cell_type": "markdown",
      "id": "acb0ea66",
      "metadata": {
        "id": "acb0ea66"
      },
      "source": [
        "- Create two instances of the class"
      ]
    },
    {
      "cell_type": "code",
      "execution_count": 62,
      "id": "19bbcbe3",
      "metadata": {
        "id": "19bbcbe3"
      },
      "outputs": [],
      "source": [
        "p_1 = Pokemon(\"Charmander\", \"2' 5''\", 18.7, \"Lizard\")\n",
        "p_2 = Pokemon(\"Bulbasaur\", \"2' 04''\", 15.2, \"Seed\")\n"
      ]
    },
    {
      "cell_type": "code",
      "source": [
        "p_1.name"
      ],
      "metadata": {
        "colab": {
          "base_uri": "https://localhost:8080/",
          "height": 35
        },
        "id": "qUQmC-aa3kZb",
        "outputId": "21d2e326-147e-4362-d8a9-3262a652cf5a"
      },
      "id": "qUQmC-aa3kZb",
      "execution_count": 63,
      "outputs": [
        {
          "output_type": "execute_result",
          "data": {
            "text/plain": [
              "'Charmander'"
            ],
            "application/vnd.google.colaboratory.intrinsic+json": {
              "type": "string"
            }
          },
          "metadata": {},
          "execution_count": 63
        }
      ]
    },
    {
      "cell_type": "code",
      "source": [
        "\n",
        "p_2.name"
      ],
      "metadata": {
        "colab": {
          "base_uri": "https://localhost:8080/",
          "height": 35
        },
        "id": "WRQXz7283nlq",
        "outputId": "b7671c27-f328-4f13-a33c-8258511cfb4d"
      },
      "id": "WRQXz7283nlq",
      "execution_count": 64,
      "outputs": [
        {
          "output_type": "execute_result",
          "data": {
            "text/plain": [
              "'Bulbasaur'"
            ],
            "application/vnd.google.colaboratory.intrinsic+json": {
              "type": "string"
            }
          },
          "metadata": {},
          "execution_count": 64
        }
      ]
    },
    {
      "cell_type": "markdown",
      "id": "e981ffa5",
      "metadata": {
        "id": "e981ffa5"
      },
      "source": [
        "- Add a comment"
      ]
    },
    {
      "cell_type": "code",
      "execution_count": 65,
      "id": "72efaea3",
      "metadata": {
        "id": "72efaea3"
      },
      "outputs": [],
      "source": [
        "p_1.add_comment(\"Its ability is Blaze\")\n",
        "p_2.add_comment(\"Its ability is Overgrow\")\n"
      ]
    },
    {
      "cell_type": "markdown",
      "id": "ce61a8af",
      "metadata": {
        "id": "ce61a8af"
      },
      "source": [
        "- Convert their measures in metric system"
      ]
    },
    {
      "cell_type": "code",
      "execution_count": 66,
      "id": "adf744c3",
      "metadata": {
        "colab": {
          "base_uri": "https://localhost:8080/"
        },
        "id": "adf744c3",
        "outputId": "b2c66cab-66d3-4afa-b5ea-dc3ff80daf07"
      },
      "outputs": [
        {
          "output_type": "stream",
          "name": "stdout",
          "text": [
            "Height (cm): 73.700000, Weight (Kg): 8.482170\n",
            "Height (cm): 71.160000, Weight (Kg): 6.894598\n"
          ]
        }
      ],
      "source": [
        "p_1.convert_metric()\n",
        "p_2.convert_metric()\n"
      ]
    },
    {
      "cell_type": "markdown",
      "id": "7617c6b6",
      "metadata": {
        "id": "7617c6b6"
      },
      "source": [
        "- Who is taller?"
      ]
    },
    {
      "cell_type": "code",
      "execution_count": 67,
      "id": "4ba36e4b",
      "metadata": {
        "colab": {
          "base_uri": "https://localhost:8080/"
        },
        "id": "4ba36e4b",
        "outputId": "c64fa666-5970-4ca7-b6d9-57e3904ebd0b"
      },
      "outputs": [
        {
          "output_type": "stream",
          "name": "stdout",
          "text": [
            "Charmander is taller\n"
          ]
        }
      ],
      "source": [
        "if p_1.height > p_2.height:\n",
        "    print(p_1.name + \" is taller\")\n",
        "elif p_1.height < p_2.height:\n",
        "    print(p_2.name + \" is taller\")\n",
        "else:\n",
        "    print(p_2.name + \" and\" + p_1.name + \"are equally taller\")\n"
      ]
    },
    {
      "cell_type": "markdown",
      "source": [
        "# Working with data"
      ],
      "metadata": {
        "id": "4i4V9dGGnSW2"
      },
      "id": "4i4V9dGGnSW2"
    },
    {
      "cell_type": "markdown",
      "source": [
        "## Data frames\n",
        "\n",
        "See library [pandas](https://pandas.pydata.org/pandas-docs)"
      ],
      "metadata": {
        "id": "-U9pu787n2Hi"
      },
      "id": "-U9pu787n2Hi"
    },
    {
      "cell_type": "code",
      "source": [
        "import numpy as np\n",
        "\n",
        "import pandas as pd"
      ],
      "metadata": {
        "id": "khZERXRfpBR3"
      },
      "id": "khZERXRfpBR3",
      "execution_count": 68,
      "outputs": []
    },
    {
      "cell_type": "code",
      "source": [
        "df = pd.DataFrame(np.random.randn(6, 4), columns=list(\"ABCD\"))\n",
        "df"
      ],
      "metadata": {
        "colab": {
          "base_uri": "https://localhost:8080/",
          "height": 237
        },
        "id": "4b3AU1sxpDfT",
        "outputId": "88533c91-9bdf-41a8-bd0b-2836b215ffe0"
      },
      "id": "4b3AU1sxpDfT",
      "execution_count": 69,
      "outputs": [
        {
          "output_type": "execute_result",
          "data": {
            "text/plain": [
              "          A         B         C         D\n",
              "0  1.097433 -2.438250  1.752332  0.742502\n",
              "1  2.808988 -0.570404  1.087855 -0.003411\n",
              "2  0.845574 -0.278671  0.577681 -0.595094\n",
              "3 -0.414821  0.219010  0.685810 -2.126004\n",
              "4  0.026895  2.034010 -1.333885 -1.463356\n",
              "5 -0.549169 -1.406183  1.210134  0.278285"
            ],
            "text/html": [
              "\n",
              "  <div id=\"df-81870a2e-7de1-4449-8149-b1bd59affaf7\">\n",
              "    <div class=\"colab-df-container\">\n",
              "      <div>\n",
              "<style scoped>\n",
              "    .dataframe tbody tr th:only-of-type {\n",
              "        vertical-align: middle;\n",
              "    }\n",
              "\n",
              "    .dataframe tbody tr th {\n",
              "        vertical-align: top;\n",
              "    }\n",
              "\n",
              "    .dataframe thead th {\n",
              "        text-align: right;\n",
              "    }\n",
              "</style>\n",
              "<table border=\"1\" class=\"dataframe\">\n",
              "  <thead>\n",
              "    <tr style=\"text-align: right;\">\n",
              "      <th></th>\n",
              "      <th>A</th>\n",
              "      <th>B</th>\n",
              "      <th>C</th>\n",
              "      <th>D</th>\n",
              "    </tr>\n",
              "  </thead>\n",
              "  <tbody>\n",
              "    <tr>\n",
              "      <th>0</th>\n",
              "      <td>1.097433</td>\n",
              "      <td>-2.438250</td>\n",
              "      <td>1.752332</td>\n",
              "      <td>0.742502</td>\n",
              "    </tr>\n",
              "    <tr>\n",
              "      <th>1</th>\n",
              "      <td>2.808988</td>\n",
              "      <td>-0.570404</td>\n",
              "      <td>1.087855</td>\n",
              "      <td>-0.003411</td>\n",
              "    </tr>\n",
              "    <tr>\n",
              "      <th>2</th>\n",
              "      <td>0.845574</td>\n",
              "      <td>-0.278671</td>\n",
              "      <td>0.577681</td>\n",
              "      <td>-0.595094</td>\n",
              "    </tr>\n",
              "    <tr>\n",
              "      <th>3</th>\n",
              "      <td>-0.414821</td>\n",
              "      <td>0.219010</td>\n",
              "      <td>0.685810</td>\n",
              "      <td>-2.126004</td>\n",
              "    </tr>\n",
              "    <tr>\n",
              "      <th>4</th>\n",
              "      <td>0.026895</td>\n",
              "      <td>2.034010</td>\n",
              "      <td>-1.333885</td>\n",
              "      <td>-1.463356</td>\n",
              "    </tr>\n",
              "    <tr>\n",
              "      <th>5</th>\n",
              "      <td>-0.549169</td>\n",
              "      <td>-1.406183</td>\n",
              "      <td>1.210134</td>\n",
              "      <td>0.278285</td>\n",
              "    </tr>\n",
              "  </tbody>\n",
              "</table>\n",
              "</div>\n",
              "      <button class=\"colab-df-convert\" onclick=\"convertToInteractive('df-81870a2e-7de1-4449-8149-b1bd59affaf7')\"\n",
              "              title=\"Convert this dataframe to an interactive table.\"\n",
              "              style=\"display:none;\">\n",
              "        \n",
              "  <svg xmlns=\"http://www.w3.org/2000/svg\" height=\"24px\"viewBox=\"0 0 24 24\"\n",
              "       width=\"24px\">\n",
              "    <path d=\"M0 0h24v24H0V0z\" fill=\"none\"/>\n",
              "    <path d=\"M18.56 5.44l.94 2.06.94-2.06 2.06-.94-2.06-.94-.94-2.06-.94 2.06-2.06.94zm-11 1L8.5 8.5l.94-2.06 2.06-.94-2.06-.94L8.5 2.5l-.94 2.06-2.06.94zm10 10l.94 2.06.94-2.06 2.06-.94-2.06-.94-.94-2.06-.94 2.06-2.06.94z\"/><path d=\"M17.41 7.96l-1.37-1.37c-.4-.4-.92-.59-1.43-.59-.52 0-1.04.2-1.43.59L10.3 9.45l-7.72 7.72c-.78.78-.78 2.05 0 2.83L4 21.41c.39.39.9.59 1.41.59.51 0 1.02-.2 1.41-.59l7.78-7.78 2.81-2.81c.8-.78.8-2.07 0-2.86zM5.41 20L4 18.59l7.72-7.72 1.47 1.35L5.41 20z\"/>\n",
              "  </svg>\n",
              "      </button>\n",
              "      \n",
              "  <style>\n",
              "    .colab-df-container {\n",
              "      display:flex;\n",
              "      flex-wrap:wrap;\n",
              "      gap: 12px;\n",
              "    }\n",
              "\n",
              "    .colab-df-convert {\n",
              "      background-color: #E8F0FE;\n",
              "      border: none;\n",
              "      border-radius: 50%;\n",
              "      cursor: pointer;\n",
              "      display: none;\n",
              "      fill: #1967D2;\n",
              "      height: 32px;\n",
              "      padding: 0 0 0 0;\n",
              "      width: 32px;\n",
              "    }\n",
              "\n",
              "    .colab-df-convert:hover {\n",
              "      background-color: #E2EBFA;\n",
              "      box-shadow: 0px 1px 2px rgba(60, 64, 67, 0.3), 0px 1px 3px 1px rgba(60, 64, 67, 0.15);\n",
              "      fill: #174EA6;\n",
              "    }\n",
              "\n",
              "    [theme=dark] .colab-df-convert {\n",
              "      background-color: #3B4455;\n",
              "      fill: #D2E3FC;\n",
              "    }\n",
              "\n",
              "    [theme=dark] .colab-df-convert:hover {\n",
              "      background-color: #434B5C;\n",
              "      box-shadow: 0px 1px 3px 1px rgba(0, 0, 0, 0.15);\n",
              "      filter: drop-shadow(0px 1px 2px rgba(0, 0, 0, 0.3));\n",
              "      fill: #FFFFFF;\n",
              "    }\n",
              "  </style>\n",
              "\n",
              "      <script>\n",
              "        const buttonEl =\n",
              "          document.querySelector('#df-81870a2e-7de1-4449-8149-b1bd59affaf7 button.colab-df-convert');\n",
              "        buttonEl.style.display =\n",
              "          google.colab.kernel.accessAllowed ? 'block' : 'none';\n",
              "\n",
              "        async function convertToInteractive(key) {\n",
              "          const element = document.querySelector('#df-81870a2e-7de1-4449-8149-b1bd59affaf7');\n",
              "          const dataTable =\n",
              "            await google.colab.kernel.invokeFunction('convertToInteractive',\n",
              "                                                     [key], {});\n",
              "          if (!dataTable) return;\n",
              "\n",
              "          const docLinkHtml = 'Like what you see? Visit the ' +\n",
              "            '<a target=\"_blank\" href=https://colab.research.google.com/notebooks/data_table.ipynb>data table notebook</a>'\n",
              "            + ' to learn more about interactive tables.';\n",
              "          element.innerHTML = '';\n",
              "          dataTable['output_type'] = 'display_data';\n",
              "          await google.colab.output.renderOutput(dataTable, element);\n",
              "          const docLink = document.createElement('div');\n",
              "          docLink.innerHTML = docLinkHtml;\n",
              "          element.appendChild(docLink);\n",
              "        }\n",
              "      </script>\n",
              "    </div>\n",
              "  </div>\n",
              "  "
            ]
          },
          "metadata": {},
          "execution_count": 69
        }
      ]
    },
    {
      "cell_type": "markdown",
      "source": [
        "\n",
        "*   Select columns\n",
        "\n"
      ],
      "metadata": {
        "id": "9XYg-tw9pk8q"
      },
      "id": "9XYg-tw9pk8q"
    },
    {
      "cell_type": "code",
      "source": [
        "df[\"A\"]"
      ],
      "metadata": {
        "colab": {
          "base_uri": "https://localhost:8080/"
        },
        "id": "a8T9OnV6pu8S",
        "outputId": "578c4877-3102-438a-e823-2be2fb2b7ddd"
      },
      "id": "a8T9OnV6pu8S",
      "execution_count": 70,
      "outputs": [
        {
          "output_type": "execute_result",
          "data": {
            "text/plain": [
              "0    1.097433\n",
              "1    2.808988\n",
              "2    0.845574\n",
              "3   -0.414821\n",
              "4    0.026895\n",
              "5   -0.549169\n",
              "Name: A, dtype: float64"
            ]
          },
          "metadata": {},
          "execution_count": 70
        }
      ]
    },
    {
      "cell_type": "markdown",
      "source": [
        "\n",
        "\n",
        "*   Select rows\n",
        "\n"
      ],
      "metadata": {
        "id": "btX1_Cb4px2H"
      },
      "id": "btX1_Cb4px2H"
    },
    {
      "cell_type": "code",
      "source": [
        "df[0:3]"
      ],
      "metadata": {
        "colab": {
          "base_uri": "https://localhost:8080/",
          "height": 143
        },
        "id": "dMbFZgzEp4dK",
        "outputId": "b04d74ad-3dc3-49d8-8591-8a7a436396ad"
      },
      "id": "dMbFZgzEp4dK",
      "execution_count": 71,
      "outputs": [
        {
          "output_type": "execute_result",
          "data": {
            "text/plain": [
              "          A         B         C         D\n",
              "0  1.097433 -2.438250  1.752332  0.742502\n",
              "1  2.808988 -0.570404  1.087855 -0.003411\n",
              "2  0.845574 -0.278671  0.577681 -0.595094"
            ],
            "text/html": [
              "\n",
              "  <div id=\"df-b3ea400e-8377-406d-acd2-03cfcf0f0215\">\n",
              "    <div class=\"colab-df-container\">\n",
              "      <div>\n",
              "<style scoped>\n",
              "    .dataframe tbody tr th:only-of-type {\n",
              "        vertical-align: middle;\n",
              "    }\n",
              "\n",
              "    .dataframe tbody tr th {\n",
              "        vertical-align: top;\n",
              "    }\n",
              "\n",
              "    .dataframe thead th {\n",
              "        text-align: right;\n",
              "    }\n",
              "</style>\n",
              "<table border=\"1\" class=\"dataframe\">\n",
              "  <thead>\n",
              "    <tr style=\"text-align: right;\">\n",
              "      <th></th>\n",
              "      <th>A</th>\n",
              "      <th>B</th>\n",
              "      <th>C</th>\n",
              "      <th>D</th>\n",
              "    </tr>\n",
              "  </thead>\n",
              "  <tbody>\n",
              "    <tr>\n",
              "      <th>0</th>\n",
              "      <td>1.097433</td>\n",
              "      <td>-2.438250</td>\n",
              "      <td>1.752332</td>\n",
              "      <td>0.742502</td>\n",
              "    </tr>\n",
              "    <tr>\n",
              "      <th>1</th>\n",
              "      <td>2.808988</td>\n",
              "      <td>-0.570404</td>\n",
              "      <td>1.087855</td>\n",
              "      <td>-0.003411</td>\n",
              "    </tr>\n",
              "    <tr>\n",
              "      <th>2</th>\n",
              "      <td>0.845574</td>\n",
              "      <td>-0.278671</td>\n",
              "      <td>0.577681</td>\n",
              "      <td>-0.595094</td>\n",
              "    </tr>\n",
              "  </tbody>\n",
              "</table>\n",
              "</div>\n",
              "      <button class=\"colab-df-convert\" onclick=\"convertToInteractive('df-b3ea400e-8377-406d-acd2-03cfcf0f0215')\"\n",
              "              title=\"Convert this dataframe to an interactive table.\"\n",
              "              style=\"display:none;\">\n",
              "        \n",
              "  <svg xmlns=\"http://www.w3.org/2000/svg\" height=\"24px\"viewBox=\"0 0 24 24\"\n",
              "       width=\"24px\">\n",
              "    <path d=\"M0 0h24v24H0V0z\" fill=\"none\"/>\n",
              "    <path d=\"M18.56 5.44l.94 2.06.94-2.06 2.06-.94-2.06-.94-.94-2.06-.94 2.06-2.06.94zm-11 1L8.5 8.5l.94-2.06 2.06-.94-2.06-.94L8.5 2.5l-.94 2.06-2.06.94zm10 10l.94 2.06.94-2.06 2.06-.94-2.06-.94-.94-2.06-.94 2.06-2.06.94z\"/><path d=\"M17.41 7.96l-1.37-1.37c-.4-.4-.92-.59-1.43-.59-.52 0-1.04.2-1.43.59L10.3 9.45l-7.72 7.72c-.78.78-.78 2.05 0 2.83L4 21.41c.39.39.9.59 1.41.59.51 0 1.02-.2 1.41-.59l7.78-7.78 2.81-2.81c.8-.78.8-2.07 0-2.86zM5.41 20L4 18.59l7.72-7.72 1.47 1.35L5.41 20z\"/>\n",
              "  </svg>\n",
              "      </button>\n",
              "      \n",
              "  <style>\n",
              "    .colab-df-container {\n",
              "      display:flex;\n",
              "      flex-wrap:wrap;\n",
              "      gap: 12px;\n",
              "    }\n",
              "\n",
              "    .colab-df-convert {\n",
              "      background-color: #E8F0FE;\n",
              "      border: none;\n",
              "      border-radius: 50%;\n",
              "      cursor: pointer;\n",
              "      display: none;\n",
              "      fill: #1967D2;\n",
              "      height: 32px;\n",
              "      padding: 0 0 0 0;\n",
              "      width: 32px;\n",
              "    }\n",
              "\n",
              "    .colab-df-convert:hover {\n",
              "      background-color: #E2EBFA;\n",
              "      box-shadow: 0px 1px 2px rgba(60, 64, 67, 0.3), 0px 1px 3px 1px rgba(60, 64, 67, 0.15);\n",
              "      fill: #174EA6;\n",
              "    }\n",
              "\n",
              "    [theme=dark] .colab-df-convert {\n",
              "      background-color: #3B4455;\n",
              "      fill: #D2E3FC;\n",
              "    }\n",
              "\n",
              "    [theme=dark] .colab-df-convert:hover {\n",
              "      background-color: #434B5C;\n",
              "      box-shadow: 0px 1px 3px 1px rgba(0, 0, 0, 0.15);\n",
              "      filter: drop-shadow(0px 1px 2px rgba(0, 0, 0, 0.3));\n",
              "      fill: #FFFFFF;\n",
              "    }\n",
              "  </style>\n",
              "\n",
              "      <script>\n",
              "        const buttonEl =\n",
              "          document.querySelector('#df-b3ea400e-8377-406d-acd2-03cfcf0f0215 button.colab-df-convert');\n",
              "        buttonEl.style.display =\n",
              "          google.colab.kernel.accessAllowed ? 'block' : 'none';\n",
              "\n",
              "        async function convertToInteractive(key) {\n",
              "          const element = document.querySelector('#df-b3ea400e-8377-406d-acd2-03cfcf0f0215');\n",
              "          const dataTable =\n",
              "            await google.colab.kernel.invokeFunction('convertToInteractive',\n",
              "                                                     [key], {});\n",
              "          if (!dataTable) return;\n",
              "\n",
              "          const docLinkHtml = 'Like what you see? Visit the ' +\n",
              "            '<a target=\"_blank\" href=https://colab.research.google.com/notebooks/data_table.ipynb>data table notebook</a>'\n",
              "            + ' to learn more about interactive tables.';\n",
              "          element.innerHTML = '';\n",
              "          dataTable['output_type'] = 'display_data';\n",
              "          await google.colab.output.renderOutput(dataTable, element);\n",
              "          const docLink = document.createElement('div');\n",
              "          docLink.innerHTML = docLinkHtml;\n",
              "          element.appendChild(docLink);\n",
              "        }\n",
              "      </script>\n",
              "    </div>\n",
              "  </div>\n",
              "  "
            ]
          },
          "metadata": {},
          "execution_count": 71
        }
      ]
    },
    {
      "cell_type": "markdown",
      "source": [
        "## Graphs\n",
        "\n",
        "see https://python-graph-gallery.com/ for templates and  examples"
      ],
      "metadata": {
        "id": "i-QUtDw3nY-T"
      },
      "id": "i-QUtDw3nY-T"
    },
    {
      "cell_type": "code",
      "source": [
        "# library & dataset\n",
        "import seaborn as sns\n",
        "df = sns.load_dataset('iris')\n",
        "\n",
        "# use the function regplot to make a scatterplot\n",
        "sns.regplot(x=df[\"sepal_length\"], y=df[\"sepal_width\"])"
      ],
      "metadata": {
        "colab": {
          "base_uri": "https://localhost:8080/",
          "height": 301
        },
        "id": "GwdXZCOhnhRq",
        "outputId": "ae27e163-478b-415c-c583-3c4addd8cf3a"
      },
      "id": "GwdXZCOhnhRq",
      "execution_count": 72,
      "outputs": [
        {
          "output_type": "execute_result",
          "data": {
            "text/plain": [
              "<matplotlib.axes._subplots.AxesSubplot at 0x7fbd19f86c90>"
            ]
          },
          "metadata": {},
          "execution_count": 72
        },
        {
          "output_type": "display_data",
          "data": {
            "text/plain": [
              "<Figure size 432x288 with 1 Axes>"
            ],
            "image/png": "[encoded data removed]"
          },
          "metadata": {
            "needs_background": "light"
          }
        }
      ]
    },
    {
      "cell_type": "markdown",
      "id": "75202326",
      "metadata": {
        "id": "75202326"
      },
      "source": [
        "# Further material\n",
        "\n",
        "- Take a look at the official [Beginner's Guide](https://wiki.python.org/moin/BeginnersGuide) for suggestions/ideas"
      ]
    },
    {
      "cell_type": "markdown",
      "id": "fb9604f2",
      "metadata": {
        "id": "fb9604f2"
      },
      "source": [
        "\n",
        "\n"
      ]
    }
  ],
  "metadata": {
    "kernelspec": {
      "display_name": "Python 3",
      "language": "python",
      "name": "python3"
    },
    "language_info": {
      "codemirror_mode": {
        "name": "ipython",
        "version": 3
      },
      "file_extension": ".py",
      "mimetype": "text/x-python",
      "name": "python",
      "nbconvert_exporter": "python",
      "pygments_lexer": "ipython3",
      "version": "3.8.9"
    },
    "colab": {
      "name": "basic.ipynb",
      "provenance": [],
      "collapsed_sections": [
        "4453a237",
        "c539c3ee",
        "839d3a38",
        "80bc0992",
        "10dc31ec",
        "032b62be",
        "670304cf"
      ]
    }
  },
  "nbformat": 4,
  "nbformat_minor": 5
}